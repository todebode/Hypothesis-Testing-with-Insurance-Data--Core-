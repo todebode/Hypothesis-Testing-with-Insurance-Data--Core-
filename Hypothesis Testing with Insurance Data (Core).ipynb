{
 "cells": [
  {
   "cell_type": "markdown",
   "id": "b4a87415",
   "metadata": {},
   "source": [
    "# Hypothesis Testing with Insurance Data (Core)\n",
    "\n",
    "Tijesunimi Odebode\n",
    "\n",
    "5/8/2022"
   ]
  },
  {
   "cell_type": "code",
   "execution_count": 1,
   "id": "8df428b2",
   "metadata": {},
   "outputs": [],
   "source": [
    "import pandas as pd\n",
    "import numpy as np\n",
    "import scipy.stats as stats\n",
    "import seaborn as sns\n",
    "from statsmodels.stats.multicomp import pairwise_tukeyhsd"
   ]
  },
  {
   "cell_type": "markdown",
   "id": "b60fa9e4",
   "metadata": {},
   "source": [
    "## Q1. Do smokers have higher insurance charges than non-smokers?"
   ]
  },
  {
   "cell_type": "markdown",
   "id": "75d54725",
   "metadata": {},
   "source": [
    "   ### 1. State your Null Hypothesis and Alternative Hypothesis"
   ]
  },
  {
   "cell_type": "markdown",
   "id": "956b120c",
   "metadata": {},
   "source": [
    "<b> Null hypothesis: \n",
    "    \n",
    "    Smokers do not have higher insurance charges than non-smokers.\n",
    "\n",
    "<b> Alternate hypothesis: \n",
    "    \n",
    "    Smokers have higher insurance charges than non-smokers.\n",
    "    \n",
    "<b> Alpha: \n",
    "    \n",
    "    We will use an alpha=.05"
   ]
  },
  {
   "cell_type": "markdown",
   "id": "d6e4461e",
   "metadata": {},
   "source": [
    "### 2. Select the correct test according to the data type and number of samples"
   ]
  },
  {
   "cell_type": "markdown",
   "id": "10f7aa92",
   "metadata": {},
   "source": [
    "- I will use the 2 Sample T-Test"
   ]
  },
  {
   "cell_type": "markdown",
   "id": "60da7a4e",
   "metadata": {},
   "source": [
    "### 3. Test the assumptions of your selected test."
   ]
  },
  {
   "cell_type": "code",
   "execution_count": 2,
   "id": "9971a37f",
   "metadata": {},
   "outputs": [
    {
     "data": {
      "text/html": [
       "<div>\n",
       "<style scoped>\n",
       "    .dataframe tbody tr th:only-of-type {\n",
       "        vertical-align: middle;\n",
       "    }\n",
       "\n",
       "    .dataframe tbody tr th {\n",
       "        vertical-align: top;\n",
       "    }\n",
       "\n",
       "    .dataframe thead th {\n",
       "        text-align: right;\n",
       "    }\n",
       "</style>\n",
       "<table border=\"1\" class=\"dataframe\">\n",
       "  <thead>\n",
       "    <tr style=\"text-align: right;\">\n",
       "      <th></th>\n",
       "      <th>age</th>\n",
       "      <th>sex</th>\n",
       "      <th>bmi</th>\n",
       "      <th>children</th>\n",
       "      <th>smoker</th>\n",
       "      <th>region</th>\n",
       "      <th>charges</th>\n",
       "    </tr>\n",
       "  </thead>\n",
       "  <tbody>\n",
       "    <tr>\n",
       "      <th>0</th>\n",
       "      <td>19</td>\n",
       "      <td>female</td>\n",
       "      <td>27.900</td>\n",
       "      <td>0</td>\n",
       "      <td>yes</td>\n",
       "      <td>southwest</td>\n",
       "      <td>16884.92400</td>\n",
       "    </tr>\n",
       "    <tr>\n",
       "      <th>1</th>\n",
       "      <td>18</td>\n",
       "      <td>male</td>\n",
       "      <td>33.770</td>\n",
       "      <td>1</td>\n",
       "      <td>no</td>\n",
       "      <td>southeast</td>\n",
       "      <td>1725.55230</td>\n",
       "    </tr>\n",
       "    <tr>\n",
       "      <th>2</th>\n",
       "      <td>28</td>\n",
       "      <td>male</td>\n",
       "      <td>33.000</td>\n",
       "      <td>3</td>\n",
       "      <td>no</td>\n",
       "      <td>southeast</td>\n",
       "      <td>4449.46200</td>\n",
       "    </tr>\n",
       "    <tr>\n",
       "      <th>3</th>\n",
       "      <td>33</td>\n",
       "      <td>male</td>\n",
       "      <td>22.705</td>\n",
       "      <td>0</td>\n",
       "      <td>no</td>\n",
       "      <td>northwest</td>\n",
       "      <td>21984.47061</td>\n",
       "    </tr>\n",
       "    <tr>\n",
       "      <th>4</th>\n",
       "      <td>32</td>\n",
       "      <td>male</td>\n",
       "      <td>28.880</td>\n",
       "      <td>0</td>\n",
       "      <td>no</td>\n",
       "      <td>northwest</td>\n",
       "      <td>3866.85520</td>\n",
       "    </tr>\n",
       "  </tbody>\n",
       "</table>\n",
       "</div>"
      ],
      "text/plain": [
       "   age     sex     bmi  children smoker     region      charges\n",
       "0   19  female  27.900         0    yes  southwest  16884.92400\n",
       "1   18    male  33.770         1     no  southeast   1725.55230\n",
       "2   28    male  33.000         3     no  southeast   4449.46200\n",
       "3   33    male  22.705         0     no  northwest  21984.47061\n",
       "4   32    male  28.880         0     no  northwest   3866.85520"
      ]
     },
     "execution_count": 2,
     "metadata": {},
     "output_type": "execute_result"
    }
   ],
   "source": [
    "df = pd.read_csv('insurance - insurance.csv')\n",
    "df.head()"
   ]
  },
  {
   "cell_type": "code",
   "execution_count": 3,
   "id": "1e2d0c1d",
   "metadata": {},
   "outputs": [
    {
     "name": "stdout",
     "output_type": "stream",
     "text": [
      "<class 'pandas.core.frame.DataFrame'>\n",
      "RangeIndex: 1338 entries, 0 to 1337\n",
      "Data columns (total 7 columns):\n",
      " #   Column    Non-Null Count  Dtype  \n",
      "---  ------    --------------  -----  \n",
      " 0   age       1338 non-null   int64  \n",
      " 1   sex       1338 non-null   object \n",
      " 2   bmi       1338 non-null   float64\n",
      " 3   children  1338 non-null   int64  \n",
      " 4   smoker    1338 non-null   object \n",
      " 5   region    1338 non-null   object \n",
      " 6   charges   1338 non-null   float64\n",
      "dtypes: float64(2), int64(2), object(3)\n",
      "memory usage: 73.3+ KB\n"
     ]
    }
   ],
   "source": [
    "df.info()"
   ]
  },
  {
   "cell_type": "code",
   "execution_count": 4,
   "id": "d086a999",
   "metadata": {},
   "outputs": [
    {
     "name": "stdout",
     "output_type": "stream",
     "text": [
      "There are 274 smokers.\n",
      "There are 1064 non-smokers.\n"
     ]
    }
   ],
   "source": [
    "smoker_insurance = df.loc[df['smoker']=='yes',['charges', 'smoker']]\n",
    "nonsmoker_insurance = df.loc[df['smoker']=='no',['charges', 'smoker']]\n",
    "## Getting means for smoker and non-smoker charges\n",
    "print(f\"There are {len(smoker_insurance)} smokers.\" )\n",
    "print(f\"There are {len(nonsmoker_insurance)} non-smokers.\" )"
   ]
  },
  {
   "cell_type": "markdown",
   "id": "03b40123",
   "metadata": {},
   "source": [
    "- From the above, we can see that there are 274 smokers \n",
    "\n",
    "- There are 1064 non-smokers "
   ]
  },
  {
   "cell_type": "code",
   "execution_count": 5,
   "id": "1b310433",
   "metadata": {},
   "outputs": [
    {
     "data": {
      "text/html": [
       "<div>\n",
       "<style scoped>\n",
       "    .dataframe tbody tr th:only-of-type {\n",
       "        vertical-align: middle;\n",
       "    }\n",
       "\n",
       "    .dataframe tbody tr th {\n",
       "        vertical-align: top;\n",
       "    }\n",
       "\n",
       "    .dataframe thead th {\n",
       "        text-align: right;\n",
       "    }\n",
       "</style>\n",
       "<table border=\"1\" class=\"dataframe\">\n",
       "  <thead>\n",
       "    <tr style=\"text-align: right;\">\n",
       "      <th></th>\n",
       "      <th>charges</th>\n",
       "      <th>smoker</th>\n",
       "    </tr>\n",
       "  </thead>\n",
       "  <tbody>\n",
       "    <tr>\n",
       "      <th>0</th>\n",
       "      <td>16884.9240</td>\n",
       "      <td>yes</td>\n",
       "    </tr>\n",
       "    <tr>\n",
       "      <th>11</th>\n",
       "      <td>27808.7251</td>\n",
       "      <td>yes</td>\n",
       "    </tr>\n",
       "    <tr>\n",
       "      <th>14</th>\n",
       "      <td>39611.7577</td>\n",
       "      <td>yes</td>\n",
       "    </tr>\n",
       "    <tr>\n",
       "      <th>19</th>\n",
       "      <td>36837.4670</td>\n",
       "      <td>yes</td>\n",
       "    </tr>\n",
       "    <tr>\n",
       "      <th>23</th>\n",
       "      <td>37701.8768</td>\n",
       "      <td>yes</td>\n",
       "    </tr>\n",
       "  </tbody>\n",
       "</table>\n",
       "</div>"
      ],
      "text/plain": [
       "       charges smoker\n",
       "0   16884.9240    yes\n",
       "11  27808.7251    yes\n",
       "14  39611.7577    yes\n",
       "19  36837.4670    yes\n",
       "23  37701.8768    yes"
      ]
     },
     "metadata": {},
     "output_type": "display_data"
    },
    {
     "data": {
      "text/html": [
       "<div>\n",
       "<style scoped>\n",
       "    .dataframe tbody tr th:only-of-type {\n",
       "        vertical-align: middle;\n",
       "    }\n",
       "\n",
       "    .dataframe tbody tr th {\n",
       "        vertical-align: top;\n",
       "    }\n",
       "\n",
       "    .dataframe thead th {\n",
       "        text-align: right;\n",
       "    }\n",
       "</style>\n",
       "<table border=\"1\" class=\"dataframe\">\n",
       "  <thead>\n",
       "    <tr style=\"text-align: right;\">\n",
       "      <th></th>\n",
       "      <th>charges</th>\n",
       "      <th>smoker</th>\n",
       "    </tr>\n",
       "  </thead>\n",
       "  <tbody>\n",
       "    <tr>\n",
       "      <th>1</th>\n",
       "      <td>1725.55230</td>\n",
       "      <td>no</td>\n",
       "    </tr>\n",
       "    <tr>\n",
       "      <th>2</th>\n",
       "      <td>4449.46200</td>\n",
       "      <td>no</td>\n",
       "    </tr>\n",
       "    <tr>\n",
       "      <th>3</th>\n",
       "      <td>21984.47061</td>\n",
       "      <td>no</td>\n",
       "    </tr>\n",
       "    <tr>\n",
       "      <th>4</th>\n",
       "      <td>3866.85520</td>\n",
       "      <td>no</td>\n",
       "    </tr>\n",
       "    <tr>\n",
       "      <th>5</th>\n",
       "      <td>3756.62160</td>\n",
       "      <td>no</td>\n",
       "    </tr>\n",
       "  </tbody>\n",
       "</table>\n",
       "</div>"
      ],
      "text/plain": [
       "       charges smoker\n",
       "1   1725.55230     no\n",
       "2   4449.46200     no\n",
       "3  21984.47061     no\n",
       "4   3866.85520     no\n",
       "5   3756.62160     no"
      ]
     },
     "metadata": {},
     "output_type": "display_data"
    }
   ],
   "source": [
    "display(smoker_insurance.head(), nonsmoker_insurance.head())"
   ]
  },
  {
   "cell_type": "code",
   "execution_count": 6,
   "id": "51e6c611",
   "metadata": {},
   "outputs": [
    {
     "data": {
      "text/html": [
       "<div>\n",
       "<style scoped>\n",
       "    .dataframe tbody tr th:only-of-type {\n",
       "        vertical-align: middle;\n",
       "    }\n",
       "\n",
       "    .dataframe tbody tr th {\n",
       "        vertical-align: top;\n",
       "    }\n",
       "\n",
       "    .dataframe thead th {\n",
       "        text-align: right;\n",
       "    }\n",
       "</style>\n",
       "<table border=\"1\" class=\"dataframe\">\n",
       "  <thead>\n",
       "    <tr style=\"text-align: right;\">\n",
       "      <th></th>\n",
       "      <th>charges</th>\n",
       "      <th>smoker</th>\n",
       "    </tr>\n",
       "  </thead>\n",
       "  <tbody>\n",
       "    <tr>\n",
       "      <th>0</th>\n",
       "      <td>16884.9240</td>\n",
       "      <td>yes</td>\n",
       "    </tr>\n",
       "    <tr>\n",
       "      <th>11</th>\n",
       "      <td>27808.7251</td>\n",
       "      <td>yes</td>\n",
       "    </tr>\n",
       "    <tr>\n",
       "      <th>14</th>\n",
       "      <td>39611.7577</td>\n",
       "      <td>yes</td>\n",
       "    </tr>\n",
       "    <tr>\n",
       "      <th>19</th>\n",
       "      <td>36837.4670</td>\n",
       "      <td>yes</td>\n",
       "    </tr>\n",
       "    <tr>\n",
       "      <th>23</th>\n",
       "      <td>37701.8768</td>\n",
       "      <td>yes</td>\n",
       "    </tr>\n",
       "    <tr>\n",
       "      <th>...</th>\n",
       "      <td>...</td>\n",
       "      <td>...</td>\n",
       "    </tr>\n",
       "    <tr>\n",
       "      <th>1332</th>\n",
       "      <td>11411.6850</td>\n",
       "      <td>no</td>\n",
       "    </tr>\n",
       "    <tr>\n",
       "      <th>1333</th>\n",
       "      <td>10600.5483</td>\n",
       "      <td>no</td>\n",
       "    </tr>\n",
       "    <tr>\n",
       "      <th>1334</th>\n",
       "      <td>2205.9808</td>\n",
       "      <td>no</td>\n",
       "    </tr>\n",
       "    <tr>\n",
       "      <th>1335</th>\n",
       "      <td>1629.8335</td>\n",
       "      <td>no</td>\n",
       "    </tr>\n",
       "    <tr>\n",
       "      <th>1336</th>\n",
       "      <td>2007.9450</td>\n",
       "      <td>no</td>\n",
       "    </tr>\n",
       "  </tbody>\n",
       "</table>\n",
       "<p>1338 rows × 2 columns</p>\n",
       "</div>"
      ],
      "text/plain": [
       "         charges smoker\n",
       "0     16884.9240    yes\n",
       "11    27808.7251    yes\n",
       "14    39611.7577    yes\n",
       "19    36837.4670    yes\n",
       "23    37701.8768    yes\n",
       "...          ...    ...\n",
       "1332  11411.6850     no\n",
       "1333  10600.5483     no\n",
       "1334   2205.9808     no\n",
       "1335   1629.8335     no\n",
       "1336   2007.9450     no\n",
       "\n",
       "[1338 rows x 2 columns]"
      ]
     },
     "execution_count": 6,
     "metadata": {},
     "output_type": "execute_result"
    }
   ],
   "source": [
    "# Visualize Group Means\n",
    "## concatenate the two dataframes for visualziation.\n",
    "plot_df = pd.concat([smoker_insurance, nonsmoker_insurance], axis=0)\n",
    "plot_df"
   ]
  },
  {
   "cell_type": "code",
   "execution_count": 7,
   "id": "313fae88",
   "metadata": {},
   "outputs": [
    {
     "data": {
      "image/png": "[encoded data removed]",
      "text/plain": [
       "<Figure size 432x288 with 1 Axes>"
      ]
     },
     "metadata": {
      "needs_background": "light"
     },
     "output_type": "display_data"
    }
   ],
   "source": [
    "## visualizing means. \n",
    "ax = sns.barplot(data=plot_df, x='smoker', y='charges', ci=68)"
   ]
  },
  {
   "cell_type": "markdown",
   "id": "5f01f1d3",
   "metadata": {},
   "source": [
    "- - We can see from the above graph that smokers have higher insurance charges than non-smokers, on average."
   ]
  },
  {
   "cell_type": "code",
   "execution_count": 8,
   "id": "df218789",
   "metadata": {},
   "outputs": [
    {
     "data": {
      "text/plain": [
       "0     16884.9240\n",
       "11    27808.7251\n",
       "14    39611.7577\n",
       "19    36837.4670\n",
       "23    37701.8768\n",
       "Name: charges, dtype: float64"
      ]
     },
     "metadata": {},
     "output_type": "display_data"
    },
    {
     "data": {
      "text/plain": [
       "1     1725.55230\n",
       "2     4449.46200\n",
       "3    21984.47061\n",
       "4     3866.85520\n",
       "5     3756.62160\n",
       "Name: charges, dtype: float64"
      ]
     },
     "metadata": {},
     "output_type": "display_data"
    }
   ],
   "source": [
    "# Let's save final 'smoker_charges' and 'nonsmoker_charges' groups \n",
    "# that are a pandas Series. \n",
    "\n",
    "smoker_charges = smoker_insurance['charges']\n",
    "nonsmoker_charges = nonsmoker_insurance['charges']\n",
    "display(smoker_charges.head(), nonsmoker_charges.head())"
   ]
  },
  {
   "cell_type": "markdown",
   "id": "4bd0bc9d",
   "metadata": {},
   "source": [
    "<b> a. Testing for Outliers"
   ]
  },
  {
   "cell_type": "code",
   "execution_count": 9,
   "id": "aa1c43a8",
   "metadata": {},
   "outputs": [
    {
     "data": {
      "text/plain": [
       "0"
      ]
     },
     "execution_count": 9,
     "metadata": {},
     "output_type": "execute_result"
    }
   ],
   "source": [
    "zscores_smoker = stats.zscore(smoker_charges)\n",
    "outliers_smoker = abs(zscores_smoker)>3\n",
    "np.sum(outliers_smoker)"
   ]
  },
  {
   "cell_type": "code",
   "execution_count": 10,
   "id": "002fe468",
   "metadata": {},
   "outputs": [
    {
     "data": {
      "text/plain": [
       "24"
      ]
     },
     "execution_count": 10,
     "metadata": {},
     "output_type": "execute_result"
    }
   ],
   "source": [
    "zscores_nonsmoker = stats.zscore(nonsmoker_charges)\n",
    "outliers_nonsmoker = abs(zscores_nonsmoker)>3\n",
    "np.sum(outliers_nonsmoker)"
   ]
  },
  {
   "cell_type": "markdown",
   "id": "2f9c2347",
   "metadata": {},
   "source": [
    "- There are no outliers for the \"smoker_charges\" data.\n",
    "- There are outliers for the \"nonsmoker_charges\" data\n",
    "\n",
    "We will drop the outliers in the \"nonsmoker_charges\" data"
   ]
  },
  {
   "cell_type": "code",
   "execution_count": 11,
   "id": "ef7f6e4a",
   "metadata": {},
   "outputs": [
    {
     "data": {
      "text/plain": [
       "1        1725.55230\n",
       "2        4449.46200\n",
       "3       21984.47061\n",
       "4        3866.85520\n",
       "5        3756.62160\n",
       "           ...     \n",
       "1332    11411.68500\n",
       "1333    10600.54830\n",
       "1334     2205.98080\n",
       "1335     1629.83350\n",
       "1336     2007.94500\n",
       "Name: charges, Length: 1040, dtype: float64"
      ]
     },
     "execution_count": 11,
     "metadata": {},
     "output_type": "execute_result"
    }
   ],
   "source": [
    "nonsmoker_charges = nonsmoker_charges.loc[~outliers_nonsmoker]\n",
    "nonsmoker_charges"
   ]
  },
  {
   "cell_type": "markdown",
   "id": "b2e78698",
   "metadata": {},
   "source": [
    "- We have dropped the outliers in the \"nonsmoker_charges\" data"
   ]
  },
  {
   "cell_type": "markdown",
   "id": "f2c81b3b",
   "metadata": {},
   "source": [
    "<b> b. Test Each Group for Normality"
   ]
  },
  {
   "cell_type": "code",
   "execution_count": 12,
   "id": "4b951a92",
   "metadata": {},
   "outputs": [
    {
     "data": {
      "text/plain": [
       "NormaltestResult(statistic=61.03941356533816, pvalue=5.564930630036463e-14)"
      ]
     },
     "execution_count": 12,
     "metadata": {},
     "output_type": "execute_result"
    }
   ],
   "source": [
    "# normal test males\n",
    "result_smoker = stats.normaltest(smoker_charges)\n",
    "result_smoker"
   ]
  },
  {
   "cell_type": "code",
   "execution_count": 13,
   "id": "38c3264f",
   "metadata": {},
   "outputs": [
    {
     "data": {
      "text/plain": [
       "NormaltestResult(statistic=163.80367047789198, pvalue=2.6945416315543976e-36)"
      ]
     },
     "execution_count": 13,
     "metadata": {},
     "output_type": "execute_result"
    }
   ],
   "source": [
    "# normal test females\n",
    "result_nonsmoker = stats.normaltest(nonsmoker_charges)\n",
    "result_nonsmoker"
   ]
  },
  {
   "cell_type": "markdown",
   "id": "846c381e",
   "metadata": {},
   "source": [
    "- For both the smoker and non-smoker groups, the p-value is less than 0.05 so we can assume these are NOT normal distributions."
   ]
  },
  {
   "cell_type": "markdown",
   "id": "2b1cbff4",
   "metadata": {},
   "source": [
    "- We will proceed since we have a large sample."
   ]
  },
  {
   "cell_type": "markdown",
   "id": "23484875",
   "metadata": {},
   "source": [
    "<b> c. Testing for Equal Variance with Levene's test"
   ]
  },
  {
   "cell_type": "code",
   "execution_count": 14,
   "id": "016b5631",
   "metadata": {},
   "outputs": [
    {
     "data": {
      "text/plain": [
       "LeveneResult(statistic=520.7468821724297, pvalue=2.4247238784347824e-97)"
      ]
     },
     "execution_count": 14,
     "metadata": {},
     "output_type": "execute_result"
    }
   ],
   "source": [
    "result = stats.levene(smoker_charges, nonsmoker_charges)\n",
    "result"
   ]
  },
  {
   "cell_type": "markdown",
   "id": "6aa155f1",
   "metadata": {},
   "source": [
    "- From the above, we can say that we don't have equal variances. As a result, we will include \"equal_var = False\" when we perform our t-test."
   ]
  },
  {
   "cell_type": "markdown",
   "id": "81888f17",
   "metadata": {},
   "source": [
    "### 4. Execute the selected test, or the alternative test (if you do not meet the assumptions)"
   ]
  },
  {
   "cell_type": "code",
   "execution_count": 15,
   "id": "40a7de5c",
   "metadata": {},
   "outputs": [
    {
     "data": {
      "text/plain": [
       "Ttest_indResult(statistic=33.732305987092516, pvalue=2.575322662587431e-104)"
      ]
     },
     "execution_count": 15,
     "metadata": {},
     "output_type": "execute_result"
    }
   ],
   "source": [
    "# Independent t-test with equal_var set to False\n",
    "result1 = stats.ttest_ind(smoker_charges, nonsmoker_charges, equal_var = False)\n",
    "result1\n",
    "\n"
   ]
  },
  {
   "cell_type": "markdown",
   "id": "8434539f",
   "metadata": {},
   "source": [
    "### 5. Interpret your p-value and reject or fail to reject your null hypothesis "
   ]
  },
  {
   "cell_type": "markdown",
   "id": "c083cc41",
   "metadata": {},
   "source": [
    "- Since our p value in the independent t-test is < alpha (0.05), we can reject the null hypothesis and accept that smokers have higher insurance charges than non-smokers"
   ]
  },
  {
   "cell_type": "markdown",
   "id": "bccea796",
   "metadata": {},
   "source": [
    "### 6. Show a supporting visualization that helps display the result"
   ]
  },
  {
   "cell_type": "code",
   "execution_count": 16,
   "id": "369a6644",
   "metadata": {},
   "outputs": [
    {
     "data": {
      "text/html": [
       "<div>\n",
       "<style scoped>\n",
       "    .dataframe tbody tr th:only-of-type {\n",
       "        vertical-align: middle;\n",
       "    }\n",
       "\n",
       "    .dataframe tbody tr th {\n",
       "        vertical-align: top;\n",
       "    }\n",
       "\n",
       "    .dataframe thead th {\n",
       "        text-align: right;\n",
       "    }\n",
       "</style>\n",
       "<table border=\"1\" class=\"dataframe\">\n",
       "  <thead>\n",
       "    <tr style=\"text-align: right;\">\n",
       "      <th></th>\n",
       "      <th>charges</th>\n",
       "      <th>smoker</th>\n",
       "    </tr>\n",
       "  </thead>\n",
       "  <tbody>\n",
       "    <tr>\n",
       "      <th>0</th>\n",
       "      <td>16884.92400</td>\n",
       "      <td>yes</td>\n",
       "    </tr>\n",
       "    <tr>\n",
       "      <th>11</th>\n",
       "      <td>27808.72510</td>\n",
       "      <td>yes</td>\n",
       "    </tr>\n",
       "    <tr>\n",
       "      <th>14</th>\n",
       "      <td>39611.75770</td>\n",
       "      <td>yes</td>\n",
       "    </tr>\n",
       "    <tr>\n",
       "      <th>19</th>\n",
       "      <td>36837.46700</td>\n",
       "      <td>yes</td>\n",
       "    </tr>\n",
       "    <tr>\n",
       "      <th>23</th>\n",
       "      <td>37701.87680</td>\n",
       "      <td>yes</td>\n",
       "    </tr>\n",
       "    <tr>\n",
       "      <th>...</th>\n",
       "      <td>...</td>\n",
       "      <td>...</td>\n",
       "    </tr>\n",
       "    <tr>\n",
       "      <th>1313</th>\n",
       "      <td>36397.57600</td>\n",
       "      <td>yes</td>\n",
       "    </tr>\n",
       "    <tr>\n",
       "      <th>1314</th>\n",
       "      <td>18765.87545</td>\n",
       "      <td>yes</td>\n",
       "    </tr>\n",
       "    <tr>\n",
       "      <th>1321</th>\n",
       "      <td>28101.33305</td>\n",
       "      <td>yes</td>\n",
       "    </tr>\n",
       "    <tr>\n",
       "      <th>1323</th>\n",
       "      <td>43896.37630</td>\n",
       "      <td>yes</td>\n",
       "    </tr>\n",
       "    <tr>\n",
       "      <th>1337</th>\n",
       "      <td>29141.36030</td>\n",
       "      <td>yes</td>\n",
       "    </tr>\n",
       "  </tbody>\n",
       "</table>\n",
       "<p>274 rows × 2 columns</p>\n",
       "</div>"
      ],
      "text/plain": [
       "          charges smoker\n",
       "0     16884.92400    yes\n",
       "11    27808.72510    yes\n",
       "14    39611.75770    yes\n",
       "19    36837.46700    yes\n",
       "23    37701.87680    yes\n",
       "...           ...    ...\n",
       "1313  36397.57600    yes\n",
       "1314  18765.87545    yes\n",
       "1321  28101.33305    yes\n",
       "1323  43896.37630    yes\n",
       "1337  29141.36030    yes\n",
       "\n",
       "[274 rows x 2 columns]"
      ]
     },
     "execution_count": 16,
     "metadata": {},
     "output_type": "execute_result"
    }
   ],
   "source": [
    "smoker_insurance.loc[~outliers_smoker]"
   ]
  },
  {
   "cell_type": "code",
   "execution_count": 17,
   "id": "00d1f009",
   "metadata": {},
   "outputs": [
    {
     "data": {
      "text/html": [
       "<div>\n",
       "<style scoped>\n",
       "    .dataframe tbody tr th:only-of-type {\n",
       "        vertical-align: middle;\n",
       "    }\n",
       "\n",
       "    .dataframe tbody tr th {\n",
       "        vertical-align: top;\n",
       "    }\n",
       "\n",
       "    .dataframe thead th {\n",
       "        text-align: right;\n",
       "    }\n",
       "</style>\n",
       "<table border=\"1\" class=\"dataframe\">\n",
       "  <thead>\n",
       "    <tr style=\"text-align: right;\">\n",
       "      <th></th>\n",
       "      <th>charges</th>\n",
       "      <th>smoker</th>\n",
       "    </tr>\n",
       "  </thead>\n",
       "  <tbody>\n",
       "    <tr>\n",
       "      <th>1</th>\n",
       "      <td>1725.55230</td>\n",
       "      <td>no</td>\n",
       "    </tr>\n",
       "    <tr>\n",
       "      <th>2</th>\n",
       "      <td>4449.46200</td>\n",
       "      <td>no</td>\n",
       "    </tr>\n",
       "    <tr>\n",
       "      <th>3</th>\n",
       "      <td>21984.47061</td>\n",
       "      <td>no</td>\n",
       "    </tr>\n",
       "    <tr>\n",
       "      <th>4</th>\n",
       "      <td>3866.85520</td>\n",
       "      <td>no</td>\n",
       "    </tr>\n",
       "    <tr>\n",
       "      <th>5</th>\n",
       "      <td>3756.62160</td>\n",
       "      <td>no</td>\n",
       "    </tr>\n",
       "    <tr>\n",
       "      <th>...</th>\n",
       "      <td>...</td>\n",
       "      <td>...</td>\n",
       "    </tr>\n",
       "    <tr>\n",
       "      <th>1332</th>\n",
       "      <td>11411.68500</td>\n",
       "      <td>no</td>\n",
       "    </tr>\n",
       "    <tr>\n",
       "      <th>1333</th>\n",
       "      <td>10600.54830</td>\n",
       "      <td>no</td>\n",
       "    </tr>\n",
       "    <tr>\n",
       "      <th>1334</th>\n",
       "      <td>2205.98080</td>\n",
       "      <td>no</td>\n",
       "    </tr>\n",
       "    <tr>\n",
       "      <th>1335</th>\n",
       "      <td>1629.83350</td>\n",
       "      <td>no</td>\n",
       "    </tr>\n",
       "    <tr>\n",
       "      <th>1336</th>\n",
       "      <td>2007.94500</td>\n",
       "      <td>no</td>\n",
       "    </tr>\n",
       "  </tbody>\n",
       "</table>\n",
       "<p>1040 rows × 2 columns</p>\n",
       "</div>"
      ],
      "text/plain": [
       "          charges smoker\n",
       "1      1725.55230     no\n",
       "2      4449.46200     no\n",
       "3     21984.47061     no\n",
       "4      3866.85520     no\n",
       "5      3756.62160     no\n",
       "...           ...    ...\n",
       "1332  11411.68500     no\n",
       "1333  10600.54830     no\n",
       "1334   2205.98080     no\n",
       "1335   1629.83350     no\n",
       "1336   2007.94500     no\n",
       "\n",
       "[1040 rows x 2 columns]"
      ]
     },
     "execution_count": 17,
     "metadata": {},
     "output_type": "execute_result"
    }
   ],
   "source": [
    "nonsmoker_insurance.loc[~outliers_nonsmoker]"
   ]
  },
  {
   "cell_type": "code",
   "execution_count": 18,
   "id": "2f137290",
   "metadata": {},
   "outputs": [
    {
     "data": {
      "text/html": [
       "<div>\n",
       "<style scoped>\n",
       "    .dataframe tbody tr th:only-of-type {\n",
       "        vertical-align: middle;\n",
       "    }\n",
       "\n",
       "    .dataframe tbody tr th {\n",
       "        vertical-align: top;\n",
       "    }\n",
       "\n",
       "    .dataframe thead th {\n",
       "        text-align: right;\n",
       "    }\n",
       "</style>\n",
       "<table border=\"1\" class=\"dataframe\">\n",
       "  <thead>\n",
       "    <tr style=\"text-align: right;\">\n",
       "      <th></th>\n",
       "      <th>charges</th>\n",
       "      <th>smoker</th>\n",
       "    </tr>\n",
       "  </thead>\n",
       "  <tbody>\n",
       "    <tr>\n",
       "      <th>0</th>\n",
       "      <td>16884.9240</td>\n",
       "      <td>yes</td>\n",
       "    </tr>\n",
       "    <tr>\n",
       "      <th>11</th>\n",
       "      <td>27808.7251</td>\n",
       "      <td>yes</td>\n",
       "    </tr>\n",
       "    <tr>\n",
       "      <th>14</th>\n",
       "      <td>39611.7577</td>\n",
       "      <td>yes</td>\n",
       "    </tr>\n",
       "    <tr>\n",
       "      <th>19</th>\n",
       "      <td>36837.4670</td>\n",
       "      <td>yes</td>\n",
       "    </tr>\n",
       "    <tr>\n",
       "      <th>23</th>\n",
       "      <td>37701.8768</td>\n",
       "      <td>yes</td>\n",
       "    </tr>\n",
       "  </tbody>\n",
       "</table>\n",
       "</div>"
      ],
      "text/plain": [
       "       charges smoker\n",
       "0   16884.9240    yes\n",
       "11  27808.7251    yes\n",
       "14  39611.7577    yes\n",
       "19  36837.4670    yes\n",
       "23  37701.8768    yes"
      ]
     },
     "metadata": {},
     "output_type": "display_data"
    },
    {
     "data": {
      "image/png": "[encoded data removed]",
      "text/plain": [
       "<Figure size 432x288 with 1 Axes>"
      ]
     },
     "metadata": {
      "needs_background": "light"
     },
     "output_type": "display_data"
    }
   ],
   "source": [
    "## concatenate the two dataframes for visualziation.\n",
    "plot1_df = pd.concat([smoker_insurance.loc[~outliers_smoker], \n",
    "                      nonsmoker_insurance.loc[~outliers_nonsmoker]], axis=0)\n",
    "display(plot1_df.head())\n",
    "ax = sns.barplot(data=plot1_df, x= 'smoker', y='charges', ci=68)\n",
    "ax.set_xticklabels(ax.get_xticklabels(), rotation='45', ha='right');"
   ]
  },
  {
   "cell_type": "markdown",
   "id": "ddfb121c",
   "metadata": {},
   "source": [
    "- We can see from the above visualization that smokers have higher insurance charges."
   ]
  },
  {
   "cell_type": "markdown",
   "id": "8b303d2f",
   "metadata": {},
   "source": [
    "## Q2. Are men more likely to smoke than women?"
   ]
  },
  {
   "cell_type": "markdown",
   "id": "0b7f0dd7",
   "metadata": {},
   "source": [
    "   ### 1. State your Null Hypothesis and Alternative Hypothesis"
   ]
  },
  {
   "cell_type": "markdown",
   "id": "1dc7de32",
   "metadata": {},
   "source": [
    "<b> Null hypothesis: \n",
    "    \n",
    "    Men are not more likely to smoke than women.\n",
    "\n",
    "<b> Alternate hypothesis: \n",
    "    \n",
    "    Men are more likely to smoke than women.\n",
    "    \n",
    "<b> Alpha: \n",
    "    \n",
    "    We will use an alpha=.05"
   ]
  },
  {
   "cell_type": "markdown",
   "id": "bc8920dc",
   "metadata": {},
   "source": [
    "### 2. Select the correct test according to the data type and number of samples"
   ]
  },
  {
   "cell_type": "markdown",
   "id": "b5061c47",
   "metadata": {},
   "source": [
    "- I will use the Chi-squared test"
   ]
  },
  {
   "cell_type": "markdown",
   "id": "9809bc69",
   "metadata": {},
   "source": [
    "### 3. Test the assumptions of your selected test."
   ]
  },
  {
   "cell_type": "code",
   "execution_count": 19,
   "id": "09a7717a",
   "metadata": {},
   "outputs": [
    {
     "data": {
      "text/html": [
       "<div>\n",
       "<style scoped>\n",
       "    .dataframe tbody tr th:only-of-type {\n",
       "        vertical-align: middle;\n",
       "    }\n",
       "\n",
       "    .dataframe tbody tr th {\n",
       "        vertical-align: top;\n",
       "    }\n",
       "\n",
       "    .dataframe thead th {\n",
       "        text-align: right;\n",
       "    }\n",
       "</style>\n",
       "<table border=\"1\" class=\"dataframe\">\n",
       "  <thead>\n",
       "    <tr style=\"text-align: right;\">\n",
       "      <th></th>\n",
       "      <th>age</th>\n",
       "      <th>sex</th>\n",
       "      <th>bmi</th>\n",
       "      <th>children</th>\n",
       "      <th>smoker</th>\n",
       "      <th>region</th>\n",
       "      <th>charges</th>\n",
       "    </tr>\n",
       "  </thead>\n",
       "  <tbody>\n",
       "    <tr>\n",
       "      <th>0</th>\n",
       "      <td>19</td>\n",
       "      <td>female</td>\n",
       "      <td>27.900</td>\n",
       "      <td>0</td>\n",
       "      <td>yes</td>\n",
       "      <td>southwest</td>\n",
       "      <td>16884.92400</td>\n",
       "    </tr>\n",
       "    <tr>\n",
       "      <th>1</th>\n",
       "      <td>18</td>\n",
       "      <td>male</td>\n",
       "      <td>33.770</td>\n",
       "      <td>1</td>\n",
       "      <td>no</td>\n",
       "      <td>southeast</td>\n",
       "      <td>1725.55230</td>\n",
       "    </tr>\n",
       "    <tr>\n",
       "      <th>2</th>\n",
       "      <td>28</td>\n",
       "      <td>male</td>\n",
       "      <td>33.000</td>\n",
       "      <td>3</td>\n",
       "      <td>no</td>\n",
       "      <td>southeast</td>\n",
       "      <td>4449.46200</td>\n",
       "    </tr>\n",
       "    <tr>\n",
       "      <th>3</th>\n",
       "      <td>33</td>\n",
       "      <td>male</td>\n",
       "      <td>22.705</td>\n",
       "      <td>0</td>\n",
       "      <td>no</td>\n",
       "      <td>northwest</td>\n",
       "      <td>21984.47061</td>\n",
       "    </tr>\n",
       "    <tr>\n",
       "      <th>4</th>\n",
       "      <td>32</td>\n",
       "      <td>male</td>\n",
       "      <td>28.880</td>\n",
       "      <td>0</td>\n",
       "      <td>no</td>\n",
       "      <td>northwest</td>\n",
       "      <td>3866.85520</td>\n",
       "    </tr>\n",
       "  </tbody>\n",
       "</table>\n",
       "</div>"
      ],
      "text/plain": [
       "   age     sex     bmi  children smoker     region      charges\n",
       "0   19  female  27.900         0    yes  southwest  16884.92400\n",
       "1   18    male  33.770         1     no  southeast   1725.55230\n",
       "2   28    male  33.000         3     no  southeast   4449.46200\n",
       "3   33    male  22.705         0     no  northwest  21984.47061\n",
       "4   32    male  28.880         0     no  northwest   3866.85520"
      ]
     },
     "execution_count": 19,
     "metadata": {},
     "output_type": "execute_result"
    }
   ],
   "source": [
    "df = pd.read_csv('insurance - insurance.csv')\n",
    "df.head()"
   ]
  },
  {
   "cell_type": "markdown",
   "id": "7440d06e",
   "metadata": {},
   "source": [
    "Let's visualize smokers/non-smokers by sex"
   ]
  },
  {
   "cell_type": "code",
   "execution_count": 20,
   "id": "34c795ad",
   "metadata": {},
   "outputs": [
    {
     "data": {
      "image/png": "[encoded data removed]",
      "text/plain": [
       "<Figure size 432x288 with 1 Axes>"
      ]
     },
     "metadata": {
      "needs_background": "light"
     },
     "output_type": "display_data"
    }
   ],
   "source": [
    "ax = sns.countplot(data=df, x='sex',hue='smoker',)\n",
    "ax.set_title(\"Number of smokers and non-smokers by Sex\");"
   ]
  },
  {
   "cell_type": "markdown",
   "id": "80189a22",
   "metadata": {},
   "source": [
    "It is obvious that our data passes the following two assumptions for using a Chi-Square test:\n",
    "\n",
    "- There are two categorical variables (ordinal or nominal)\n",
    "\n",
    "- The outcomes are independent"
   ]
  },
  {
   "cell_type": "markdown",
   "id": "a976965a",
   "metadata": {},
   "source": [
    "### 4. Execute the selected test, or the alternative test (if you do not meet the assumptions)"
   ]
  },
  {
   "cell_type": "markdown",
   "id": "602dd79d",
   "metadata": {},
   "source": [
    "Let's get the Contingency Table"
   ]
  },
  {
   "cell_type": "code",
   "execution_count": 21,
   "id": "c8c254d8",
   "metadata": {},
   "outputs": [
    {
     "data": {
      "text/html": [
       "<div>\n",
       "<style scoped>\n",
       "    .dataframe tbody tr th:only-of-type {\n",
       "        vertical-align: middle;\n",
       "    }\n",
       "\n",
       "    .dataframe tbody tr th {\n",
       "        vertical-align: top;\n",
       "    }\n",
       "\n",
       "    .dataframe thead th {\n",
       "        text-align: right;\n",
       "    }\n",
       "</style>\n",
       "<table border=\"1\" class=\"dataframe\">\n",
       "  <thead>\n",
       "    <tr style=\"text-align: right;\">\n",
       "      <th>smoker</th>\n",
       "      <th>no</th>\n",
       "      <th>yes</th>\n",
       "    </tr>\n",
       "    <tr>\n",
       "      <th>sex</th>\n",
       "      <th></th>\n",
       "      <th></th>\n",
       "    </tr>\n",
       "  </thead>\n",
       "  <tbody>\n",
       "    <tr>\n",
       "      <th>female</th>\n",
       "      <td>547</td>\n",
       "      <td>115</td>\n",
       "    </tr>\n",
       "    <tr>\n",
       "      <th>male</th>\n",
       "      <td>517</td>\n",
       "      <td>159</td>\n",
       "    </tr>\n",
       "  </tbody>\n",
       "</table>\n",
       "</div>"
      ],
      "text/plain": [
       "smoker   no  yes\n",
       "sex             \n",
       "female  547  115\n",
       "male    517  159"
      ]
     },
     "execution_count": 21,
     "metadata": {},
     "output_type": "execute_result"
    }
   ],
   "source": [
    "# calculate the contingency table with pd.cross-tab\n",
    "table = pd.crosstab(df['sex'], df['smoker'])\n",
    "table"
   ]
  },
  {
   "cell_type": "code",
   "execution_count": 22,
   "id": "e6446f07",
   "metadata": {},
   "outputs": [],
   "source": [
    "# Run the Test and Save the Output\n",
    "result = stats.chi2_contingency(table)\n",
    "chi2, p, deg_free, expected_vals = result #this labels the results"
   ]
  },
  {
   "cell_type": "code",
   "execution_count": 23,
   "id": "651b2fce",
   "metadata": {},
   "outputs": [
    {
     "name": "stdout",
     "output_type": "stream",
     "text": [
      "0.006548143503580696\n"
     ]
    },
    {
     "data": {
      "text/plain": [
       "True"
      ]
     },
     "execution_count": 23,
     "metadata": {},
     "output_type": "execute_result"
    }
   ],
   "source": [
    "# What was our p-value?\n",
    "print(p)\n",
    "p<.05"
   ]
  },
  {
   "cell_type": "markdown",
   "id": "7d022a8b",
   "metadata": {},
   "source": [
    "- Since the p-value is less than 0.05, we can say that we have a significant result."
   ]
  },
  {
   "cell_type": "markdown",
   "id": "def74986",
   "metadata": {},
   "source": [
    "### 5. Interpret your p-value and reject or fail to reject your null hypothesis "
   ]
  },
  {
   "cell_type": "markdown",
   "id": "b653bf0d",
   "metadata": {},
   "source": [
    "Since our p < .05, we reject the null hypothesis that men are not more likely to smoke than women. In other words, we accept the alternate hypothesis and conclude that men are more likely to smoke than women."
   ]
  },
  {
   "cell_type": "markdown",
   "id": "2050afb3",
   "metadata": {},
   "source": [
    "### 6. Show a supporting visualization that helps display the result"
   ]
  },
  {
   "cell_type": "code",
   "execution_count": 24,
   "id": "15da3b70",
   "metadata": {},
   "outputs": [
    {
     "data": {
      "image/png": "[encoded data removed]",
      "text/plain": [
       "<Figure size 432x288 with 1 Axes>"
      ]
     },
     "metadata": {
      "needs_background": "light"
     },
     "output_type": "display_data"
    }
   ],
   "source": [
    "ax = sns.countplot(data=df, x='sex',hue='smoker',)\n",
    "ax.set_title(\"Number of smokers and non-smokers by Sex\");"
   ]
  },
  {
   "cell_type": "markdown",
   "id": "e9dd36c1",
   "metadata": {},
   "source": [
    "- We can see from the above visualization that there is a higher number of men that smoke than women"
   ]
  },
  {
   "cell_type": "code",
   "execution_count": 25,
   "id": "ac4c2c51",
   "metadata": {},
   "outputs": [
    {
     "data": {
      "text/html": [
       "<div>\n",
       "<style scoped>\n",
       "    .dataframe tbody tr th:only-of-type {\n",
       "        vertical-align: middle;\n",
       "    }\n",
       "\n",
       "    .dataframe tbody tr th {\n",
       "        vertical-align: top;\n",
       "    }\n",
       "\n",
       "    .dataframe thead th {\n",
       "        text-align: right;\n",
       "    }\n",
       "</style>\n",
       "<table border=\"1\" class=\"dataframe\">\n",
       "  <thead>\n",
       "    <tr style=\"text-align: right;\">\n",
       "      <th>smoker</th>\n",
       "      <th>no</th>\n",
       "      <th>yes</th>\n",
       "    </tr>\n",
       "    <tr>\n",
       "      <th>sex</th>\n",
       "      <th></th>\n",
       "      <th></th>\n",
       "    </tr>\n",
       "  </thead>\n",
       "  <tbody>\n",
       "    <tr>\n",
       "      <th>female</th>\n",
       "      <td>0.826284</td>\n",
       "      <td>0.173716</td>\n",
       "    </tr>\n",
       "    <tr>\n",
       "      <th>male</th>\n",
       "      <td>0.764793</td>\n",
       "      <td>0.235207</td>\n",
       "    </tr>\n",
       "  </tbody>\n",
       "</table>\n",
       "</div>"
      ],
      "text/plain": [
       "smoker        no       yes\n",
       "sex                       \n",
       "female  0.826284  0.173716\n",
       "male    0.764793  0.235207"
      ]
     },
     "execution_count": 25,
     "metadata": {},
     "output_type": "execute_result"
    }
   ],
   "source": [
    "# calculate the contingency table with pd.cross-tab\n",
    "table = pd.crosstab(df['sex'], df['smoker'], normalize='index')\n",
    "table"
   ]
  },
  {
   "cell_type": "markdown",
   "id": "2da8d75a",
   "metadata": {},
   "source": [
    "## Q3. Do different regions have different charges, on average?"
   ]
  },
  {
   "cell_type": "code",
   "execution_count": 26,
   "id": "c9d23a3e",
   "metadata": {},
   "outputs": [
    {
     "data": {
      "text/plain": [
       "southeast    364\n",
       "southwest    325\n",
       "northwest    325\n",
       "northeast    324\n",
       "Name: region, dtype: int64"
      ]
     },
     "execution_count": 26,
     "metadata": {},
     "output_type": "execute_result"
    }
   ],
   "source": [
    "df['region'].value_counts()"
   ]
  },
  {
   "cell_type": "code",
   "execution_count": 27,
   "id": "350b2e35",
   "metadata": {},
   "outputs": [
    {
     "name": "stderr",
     "output_type": "stream",
     "text": [
      "C:\\Users\\tijes\\anaconda3\\envs\\dojo-env\\lib\\site-packages\\seaborn\\_decorators.py:43: FutureWarning: Pass the following variable as a keyword arg: x. From version 0.12, the only valid positional argument will be `data`, and passing other arguments without an explicit keyword will result in an error or misinterpretation.\n",
      "  FutureWarning\n"
     ]
    },
    {
     "data": {
      "image/png": "[encoded data removed]",
      "text/plain": [
       "<Figure size 432x288 with 1 Axes>"
      ]
     },
     "metadata": {
      "needs_background": "light"
     },
     "output_type": "display_data"
    }
   ],
   "source": [
    "ax = sns.countplot(df['region'])\n",
    "ax.set_xticklabels(ax.get_xticklabels(), rotation='45', ha='right');"
   ]
  },
  {
   "cell_type": "markdown",
   "id": "46ae4dbe",
   "metadata": {},
   "source": [
    "   ### 1. State your Null Hypothesis and Alternative Hypothesis"
   ]
  },
  {
   "cell_type": "markdown",
   "id": "aa42ca28",
   "metadata": {},
   "source": [
    "<b> Null hypothesis: \n",
    "    \n",
    "    Different regions do not have different charges, on average. Different regions all have the same charges, on average.\n",
    "\n",
    "<b> Alternate hypothesis: \n",
    "    \n",
    "    Different regions have different charges, on average. \n",
    "\n",
    "    \n",
    "<b> Alpha: \n",
    "    \n",
    "    We will use an alpha=.05"
   ]
  },
  {
   "cell_type": "markdown",
   "id": "20f963b6",
   "metadata": {},
   "source": [
    "### 2. Select the correct test according to the data type and number of samples"
   ]
  },
  {
   "cell_type": "markdown",
   "id": "ef3797b3",
   "metadata": {},
   "source": [
    "- I will use the ANOVA Test"
   ]
  },
  {
   "cell_type": "markdown",
   "id": "281d879b",
   "metadata": {},
   "source": [
    "### 3. Test the assumptions of your selected test."
   ]
  },
  {
   "cell_type": "code",
   "execution_count": 28,
   "id": "c5f90d41",
   "metadata": {},
   "outputs": [
    {
     "data": {
      "text/plain": [
       "dict_keys(['southwest', 'southeast', 'northwest', 'northeast'])"
      ]
     },
     "execution_count": 28,
     "metadata": {},
     "output_type": "execute_result"
    }
   ],
   "source": [
    "## Create groups dictionary. There are only 4 groups\n",
    "groups = {}\n",
    "## Loop through all unique categories\n",
    "for region in df['region'].unique():\n",
    "    ## Get series for group \n",
    "    temp = df.loc[df['region']==region,'charges'].copy()\n",
    "    \n",
    "    # save into the dictionary\n",
    "    groups[region] = temp\n",
    "groups.keys()"
   ]
  },
  {
   "cell_type": "code",
   "execution_count": 29,
   "id": "fd453f7c",
   "metadata": {},
   "outputs": [
    {
     "data": {
      "text/plain": [
       "0       16884.92400\n",
       "12       1826.84300\n",
       "15       1837.23700\n",
       "18      10602.38500\n",
       "19      36837.46700\n",
       "           ...     \n",
       "1316     1731.67700\n",
       "1329    10325.20600\n",
       "1331    10795.93733\n",
       "1332    11411.68500\n",
       "1336     2007.94500\n",
       "Name: charges, Length: 325, dtype: float64"
      ]
     },
     "execution_count": 29,
     "metadata": {},
     "output_type": "execute_result"
    }
   ],
   "source": [
    "groups['southwest']"
   ]
  },
  {
   "cell_type": "markdown",
   "id": "dfb50c63",
   "metadata": {},
   "source": [
    "<b> a. Testing for Outliers"
   ]
  },
  {
   "cell_type": "code",
   "execution_count": 30,
   "id": "7bdce400",
   "metadata": {},
   "outputs": [
    {
     "name": "stdout",
     "output_type": "stream",
     "text": [
      "There were 8 outliers in the southwest group.\n",
      "There were 2 outliers in the southeast group.\n",
      "There were 7 outliers in the northwest group.\n",
      "There were 4 outliers in the northeast group.\n"
     ]
    }
   ],
   "source": [
    "for region, data in groups.items():\n",
    "\n",
    "    outliers = np.abs(stats.zscore(data)) > 3\n",
    "    print(f\"There were {outliers.sum()} outliers in the {region} group.\")\n",
    "\n",
    "    data = data.loc[~outliers]\n",
    "    groups[region] = data"
   ]
  },
  {
   "cell_type": "markdown",
   "id": "f6b0fbce",
   "metadata": {},
   "source": [
    "<b> b. Check for Normality"
   ]
  },
  {
   "cell_type": "code",
   "execution_count": 31,
   "id": "3e75c5ce",
   "metadata": {},
   "outputs": [
    {
     "data": {
      "text/html": [
       "<div>\n",
       "<style scoped>\n",
       "    .dataframe tbody tr th:only-of-type {\n",
       "        vertical-align: middle;\n",
       "    }\n",
       "\n",
       "    .dataframe tbody tr th {\n",
       "        vertical-align: top;\n",
       "    }\n",
       "\n",
       "    .dataframe thead th {\n",
       "        text-align: right;\n",
       "    }\n",
       "</style>\n",
       "<table border=\"1\" class=\"dataframe\">\n",
       "  <thead>\n",
       "    <tr style=\"text-align: right;\">\n",
       "      <th></th>\n",
       "      <th>n</th>\n",
       "      <th>p</th>\n",
       "    </tr>\n",
       "  </thead>\n",
       "  <tbody>\n",
       "    <tr>\n",
       "      <th>southwest</th>\n",
       "      <td>317.0</td>\n",
       "      <td>7.728611e-22</td>\n",
       "    </tr>\n",
       "    <tr>\n",
       "      <th>southeast</th>\n",
       "      <td>362.0</td>\n",
       "      <td>1.936990e-13</td>\n",
       "    </tr>\n",
       "    <tr>\n",
       "      <th>northwest</th>\n",
       "      <td>318.0</td>\n",
       "      <td>2.940543e-19</td>\n",
       "    </tr>\n",
       "    <tr>\n",
       "      <th>northeast</th>\n",
       "      <td>320.0</td>\n",
       "      <td>3.557877e-17</td>\n",
       "    </tr>\n",
       "  </tbody>\n",
       "</table>\n",
       "</div>"
      ],
      "text/plain": [
       "               n             p\n",
       "southwest  317.0  7.728611e-22\n",
       "southeast  362.0  1.936990e-13\n",
       "northwest  318.0  2.940543e-19\n",
       "northeast  320.0  3.557877e-17"
      ]
     },
     "execution_count": 31,
     "metadata": {},
     "output_type": "execute_result"
    }
   ],
   "source": [
    "## Running normal test on each group and confirming there are >15 in each group\n",
    "norm_results = {}\n",
    "for i, data in groups.items():\n",
    "    stat, p = stats.normaltest(data)\n",
    "    ## save the p val, test statistic, and the size of the group\n",
    "    norm_results[i] = {'n': len(data),\n",
    "                             'p':p}\n",
    "pd.DataFrame(norm_results).T"
   ]
  },
  {
   "cell_type": "code",
   "execution_count": 32,
   "id": "e5a9c0f1",
   "metadata": {},
   "outputs": [
    {
     "data": {
      "text/html": [
       "<div>\n",
       "<style scoped>\n",
       "    .dataframe tbody tr th:only-of-type {\n",
       "        vertical-align: middle;\n",
       "    }\n",
       "\n",
       "    .dataframe tbody tr th {\n",
       "        vertical-align: top;\n",
       "    }\n",
       "\n",
       "    .dataframe thead th {\n",
       "        text-align: right;\n",
       "    }\n",
       "</style>\n",
       "<table border=\"1\" class=\"dataframe\">\n",
       "  <thead>\n",
       "    <tr style=\"text-align: right;\">\n",
       "      <th></th>\n",
       "      <th>n</th>\n",
       "      <th>p</th>\n",
       "      <th>sig?</th>\n",
       "    </tr>\n",
       "  </thead>\n",
       "  <tbody>\n",
       "    <tr>\n",
       "      <th>southwest</th>\n",
       "      <td>317.0</td>\n",
       "      <td>7.728611e-22</td>\n",
       "      <td>True</td>\n",
       "    </tr>\n",
       "    <tr>\n",
       "      <th>southeast</th>\n",
       "      <td>362.0</td>\n",
       "      <td>1.936990e-13</td>\n",
       "      <td>True</td>\n",
       "    </tr>\n",
       "    <tr>\n",
       "      <th>northwest</th>\n",
       "      <td>318.0</td>\n",
       "      <td>2.940543e-19</td>\n",
       "      <td>True</td>\n",
       "    </tr>\n",
       "    <tr>\n",
       "      <th>northeast</th>\n",
       "      <td>320.0</td>\n",
       "      <td>3.557877e-17</td>\n",
       "      <td>True</td>\n",
       "    </tr>\n",
       "  </tbody>\n",
       "</table>\n",
       "</div>"
      ],
      "text/plain": [
       "               n             p  sig?\n",
       "southwest  317.0  7.728611e-22  True\n",
       "southeast  362.0  1.936990e-13  True\n",
       "northwest  318.0  2.940543e-19  True\n",
       "northeast  320.0  3.557877e-17  True"
      ]
     },
     "execution_count": 32,
     "metadata": {},
     "output_type": "execute_result"
    }
   ],
   "source": [
    "norm_results_df = pd.DataFrame(norm_results).T\n",
    "norm_results_df['sig?'] = norm_results_df['p'] < .05\n",
    "norm_results_df"
   ]
  },
  {
   "cell_type": "markdown",
   "id": "18f6dbb0",
   "metadata": {},
   "source": [
    "- For each group, the p-value is less than 0.05 so we can assume these are NOT normal distributions.\n",
    "\n",
    "- We will proceed since we have a large sample."
   ]
  },
  {
   "cell_type": "markdown",
   "id": "bfbb1bbb",
   "metadata": {},
   "source": [
    "<b> c. Testing Assumption of Equal Variance"
   ]
  },
  {
   "cell_type": "code",
   "execution_count": 33,
   "id": "b988d57a",
   "metadata": {},
   "outputs": [
    {
     "data": {
      "text/plain": [
       "LeveneResult(statistic=9.518349004554441, pvalue=3.2035503711783993e-06)"
      ]
     },
     "execution_count": 33,
     "metadata": {},
     "output_type": "execute_result"
    }
   ],
   "source": [
    "# with the * operator \n",
    "stats.levene(*groups.values())"
   ]
  },
  {
   "cell_type": "markdown",
   "id": "811ff902",
   "metadata": {},
   "source": [
    "- Since our p-value was <.05 we reject the null hypothesis that the samples come from populations with equal variances. We accept that our groups DO NOT have equal variance."
   ]
  },
  {
   "cell_type": "markdown",
   "id": "70823813",
   "metadata": {},
   "source": [
    "### 4. Execute the selected test, or the alternative test (if you do not meet the assumptions)\n",
    "\n",
    "<b> Hypothesis Test - Kruskal Wallice"
   ]
  },
  {
   "cell_type": "code",
   "execution_count": 34,
   "id": "7da255a8",
   "metadata": {},
   "outputs": [
    {
     "name": "stdout",
     "output_type": "stream",
     "text": [
      "KruskalResult(statistic=6.914045702545643, pvalue=0.07468847911322242)\n"
     ]
    },
    {
     "data": {
      "text/plain": [
       "False"
      ]
     },
     "execution_count": 34,
     "metadata": {},
     "output_type": "execute_result"
    }
   ],
   "source": [
    "## Running Krukal Test for Original Hypothesis\n",
    "result = stats.kruskal(*groups.values())\n",
    "print(result)\n",
    "result.pvalue<.05"
   ]
  },
  {
   "cell_type": "markdown",
   "id": "1afac973",
   "metadata": {},
   "source": [
    "Our Kruskal Wallis test returned a p-value greater than .05. We fail to reject the null hypothesis and conclude that different regions all have the same charges, on average..\n",
    "\n",
    "Let's run a Post-Hoc Multiple Comparison Test to get a p-value for every possible combination of 2 groups."
   ]
  },
  {
   "cell_type": "code",
   "execution_count": 35,
   "id": "a3aa1ac8",
   "metadata": {},
   "outputs": [
    {
     "data": {
      "text/html": [
       "<table class=\"simpletable\">\n",
       "<caption>Multiple Comparison of Means - Tukey HSD, FWER=0.05</caption>\n",
       "<tr>\n",
       "   <th>group1</th>    <th>group2</th>    <th>meandiff</th>   <th>p-adj</th>    <th>lower</th>     <th>upper</th>   <th>reject</th>\n",
       "</tr>\n",
       "<tr>\n",
       "  <td>northeast</td> <td>northwest</td>  <td>-988.8091</td> <td>0.7245</td> <td>-3428.9343</td> <td>1451.3161</td>  <td>False</td>\n",
       "</tr>\n",
       "<tr>\n",
       "  <td>northeast</td> <td>southeast</td>  <td>1329.0269</td> <td>0.4745</td> <td>-1044.9417</td> <td>3702.9955</td>  <td>False</td>\n",
       "</tr>\n",
       "<tr>\n",
       "  <td>northeast</td> <td>southwest</td> <td>-1059.4471</td> <td>0.6792</td> <td>-3499.5723</td> <td>1380.6781</td>  <td>False</td>\n",
       "</tr>\n",
       "<tr>\n",
       "  <td>northwest</td> <td>southeast</td>  <td>2317.8361</td> <td>0.0583</td>  <td>-54.1994</td>  <td>4689.8716</td>  <td>False</td>\n",
       "</tr>\n",
       "<tr>\n",
       "  <td>northwest</td> <td>southwest</td>   <td>-70.638</td>  <td>0.9999</td> <td>-2508.8826</td> <td>2367.6066</td>  <td>False</td>\n",
       "</tr>\n",
       "<tr>\n",
       "  <td>southeast</td> <td>southwest</td> <td>-2388.4741</td> <td>0.0477</td> <td>-4760.5096</td> <td>-16.4386</td>   <td>True</td> \n",
       "</tr>\n",
       "</table>"
      ],
      "text/plain": [
       "<class 'statsmodels.iolib.table.SimpleTable'>"
      ]
     },
     "execution_count": 35,
     "metadata": {},
     "output_type": "execute_result"
    }
   ],
   "source": [
    "values = df['charges']\n",
    "labels = df['region']\n",
    "\n",
    "## perform tukey's multiple comparison test and display the summary\n",
    "tukeys_results = pairwise_tukeyhsd(values,labels)\n",
    "tukeys_results.summary()"
   ]
  },
  {
   "cell_type": "markdown",
   "id": "280fdf67",
   "metadata": {},
   "source": [
    "- For each comparison of two groups in the table above, wherever we see 'True' under the 'reject' column, it means that we are rejecting the null hypothesis and concluding that those two regions regions had different charges, on average.\n",
    "\n",
    "- For each comparison of two groups in the table above, wherever we see 'False' under the 'reject' column, it means that we are failing to reject the null hypothesis and concluding that those two regions do not have different charges, on average."
   ]
  },
  {
   "cell_type": "markdown",
   "id": "c2059ead",
   "metadata": {},
   "source": [
    "### 5. Interpret your p-value and reject or fail to reject your null hypothesis "
   ]
  },
  {
   "cell_type": "markdown",
   "id": "e4c24b43",
   "metadata": {},
   "source": [
    "- Our Kruskal Wallis test returned a p-value greater than .05. We fail to reject the null hypothesis and conclude that different regions all have the same charges, on average."
   ]
  },
  {
   "cell_type": "markdown",
   "id": "9149da58",
   "metadata": {},
   "source": [
    "- For each comparison of two groups in the table above, wherever we see 'True' under the 'reject' column, it means that we are rejecting the null hypothesis and concluding that those two regions had different charges, on average.\n",
    "\n",
    "- For each comparison of two groups in the table above, wherever we see 'False' under the 'reject' column, it means that we are failing to reject the null hypothesis and concluding that those two regions do not have different charges, on average."
   ]
  },
  {
   "cell_type": "markdown",
   "id": "397c0a78",
   "metadata": {},
   "source": [
    "### 6. Show a supporting visualization that helps display the result"
   ]
  },
  {
   "cell_type": "code",
   "execution_count": 36,
   "id": "a11a5ddb",
   "metadata": {},
   "outputs": [
    {
     "data": {
      "text/html": [
       "<table class=\"simpletable\">\n",
       "<caption>Multiple Comparison of Means - Tukey HSD, FWER=0.05</caption>\n",
       "<tr>\n",
       "   <th>group1</th>    <th>group2</th>    <th>meandiff</th>   <th>p-adj</th>    <th>lower</th>     <th>upper</th>   <th>reject</th>\n",
       "</tr>\n",
       "<tr>\n",
       "  <td>northeast</td> <td>northwest</td>  <td>-988.8091</td> <td>0.7245</td> <td>-3428.9343</td> <td>1451.3161</td>  <td>False</td>\n",
       "</tr>\n",
       "<tr>\n",
       "  <td>northeast</td> <td>southeast</td>  <td>1329.0269</td> <td>0.4745</td> <td>-1044.9417</td> <td>3702.9955</td>  <td>False</td>\n",
       "</tr>\n",
       "<tr>\n",
       "  <td>northeast</td> <td>southwest</td> <td>-1059.4471</td> <td>0.6792</td> <td>-3499.5723</td> <td>1380.6781</td>  <td>False</td>\n",
       "</tr>\n",
       "<tr>\n",
       "  <td>northwest</td> <td>southeast</td>  <td>2317.8361</td> <td>0.0583</td>  <td>-54.1994</td>  <td>4689.8716</td>  <td>False</td>\n",
       "</tr>\n",
       "<tr>\n",
       "  <td>northwest</td> <td>southwest</td>   <td>-70.638</td>  <td>0.9999</td> <td>-2508.8826</td> <td>2367.6066</td>  <td>False</td>\n",
       "</tr>\n",
       "<tr>\n",
       "  <td>southeast</td> <td>southwest</td> <td>-2388.4741</td> <td>0.0477</td> <td>-4760.5096</td> <td>-16.4386</td>   <td>True</td> \n",
       "</tr>\n",
       "</table>"
      ],
      "text/plain": [
       "<class 'statsmodels.iolib.table.SimpleTable'>"
      ]
     },
     "execution_count": 36,
     "metadata": {},
     "output_type": "execute_result"
    }
   ],
   "source": [
    "tukeys_results.summary()"
   ]
  },
  {
   "cell_type": "code",
   "execution_count": 37,
   "id": "ade924ed",
   "metadata": {},
   "outputs": [
    {
     "data": {
      "image/png": "[encoded data removed]",
      "text/plain": [
       "<Figure size 432x288 with 1 Axes>"
      ]
     },
     "metadata": {
      "needs_background": "light"
     },
     "output_type": "display_data"
    }
   ],
   "source": [
    "ax = sns.barplot(data=df, x='region', y='charges', ci=68)\n",
    "ax.set_xticklabels(ax.get_xticklabels(), rotation='45', ha='right');"
   ]
  },
  {
   "cell_type": "code",
   "execution_count": 38,
   "id": "f4956fe1",
   "metadata": {},
   "outputs": [
    {
     "data": {
      "image/png": "[encoded data removed]",
      "text/plain": [
       "<Figure size 720x432 with 1 Axes>"
      ]
     },
     "metadata": {
      "needs_background": "light"
     },
     "output_type": "display_data"
    }
   ],
   "source": [
    "tukeys_results.plot_simultaneous();"
   ]
  },
  {
   "cell_type": "markdown",
   "id": "c3070fe8",
   "metadata": {},
   "source": [
    "- From the above visualizations, for southeast and southwest,  we are rejecting the null hypothesis and concluding that southeast and southwest had different charges, on average."
   ]
  }
 ],
 "metadata": {
  "kernelspec": {
   "display_name": "Python (dojo-env)",
   "language": "python",
   "name": "dojo-env"
  },
  "language_info": {
   "codemirror_mode": {
    "name": "ipython",
    "version": 3
   },
   "file_extension": ".py",
   "mimetype": "text/x-python",
   "name": "python",
   "nbconvert_exporter": "python",
   "pygments_lexer": "ipython3",
   "version": "3.7.12"
  },
  "toc": {
   "base_numbering": 1,
   "nav_menu": {},
   "number_sections": false,
   "sideBar": true,
   "skip_h1_title": false,
   "title_cell": "Table of Contents",
   "title_sidebar": "Contents",
   "toc_cell": false,
   "toc_position": {},
   "toc_section_display": true,
   "toc_window_display": false
  }
 },
 "nbformat": 4,
 "nbformat_minor": 5
}
